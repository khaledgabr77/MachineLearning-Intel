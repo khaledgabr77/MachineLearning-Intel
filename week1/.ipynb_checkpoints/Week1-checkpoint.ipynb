{
 "cells": [
  {
   "cell_type": "code",
   "execution_count": 1,
   "metadata": {},
   "outputs": [],
   "source": [
    "import pandas as pd\n",
    "import numpy as np"
   ]
  },
  {
   "cell_type": "code",
   "execution_count": 2,
   "metadata": {},
   "outputs": [
    {
     "name": "stdout",
     "output_type": "stream",
     "text": [
      "0    3620\n",
      "1    7891\n",
      "2    9761\n",
      "3    3907\n",
      "4    4338\n",
      "5    5373\n",
      "Name: step, dtype: int64\n"
     ]
    }
   ],
   "source": [
    "#Use data from step tracking application to create a Pandas Series\n",
    "step_data = [3620, 7891, 9761, 3907, 4338, 5373]\n",
    "step_counts = pd.Series(step_data, name=\"step\")\n",
    "print(step_counts)"
   ]
  },
  {
   "cell_type": "code",
   "execution_count": 3,
   "metadata": {},
   "outputs": [
    {
     "name": "stdout",
     "output_type": "stream",
     "text": [
      "2015-03-29    3620\n",
      "2015-03-30    7891\n",
      "2015-03-31    9761\n",
      "2015-04-01    3907\n",
      "2015-04-02    4338\n",
      "2015-04-03    5373\n",
      "Freq: D, Name: step, dtype: int64\n"
     ]
    }
   ],
   "source": [
    "#Add a date range to the Series\n",
    "step_counts.index = pd.date_range(\"20150329\", periods=6)\n",
    "print(step_counts)"
   ]
  },
  {
   "cell_type": "code",
   "execution_count": 4,
   "metadata": {},
   "outputs": [
    {
     "name": "stdout",
     "output_type": "stream",
     "text": [
      "3907\n",
      "3907\n",
      "2015-04-01    3907\n",
      "2015-04-02    4338\n",
      "2015-04-03    5373\n",
      "Freq: D, Name: step, dtype: int64\n"
     ]
    }
   ],
   "source": [
    "#Select data by the index values\n",
    "print(step_counts[\"2015-04-01\"])\n",
    "# Or by index position—like an array\n",
    "print(step_counts[3])\n",
    "# Select all of April\n",
    "print(step_counts[\"2015-04\"])"
   ]
  },
  {
   "cell_type": "code",
   "execution_count": 5,
   "metadata": {},
   "outputs": [
    {
     "name": "stdout",
     "output_type": "stream",
     "text": [
      "int64\n",
      "float64\n"
     ]
    }
   ],
   "source": [
    "# View the data type\n",
    "print(step_counts.dtypes)\n",
    "# Convert to float\n",
    "step_counts = step_counts.astype(np.float)\n",
    "# View the data type\n",
    "print(step_counts.dtypes)"
   ]
  },
  {
   "cell_type": "code",
   "execution_count": 6,
   "metadata": {},
   "outputs": [
    {
     "name": "stdout",
     "output_type": "stream",
     "text": [
      "2015-03-30    0.0\n",
      "2015-03-31    0.0\n",
      "Freq: D, Name: step, dtype: float64\n"
     ]
    }
   ],
   "source": [
    "# Create invalid data \n",
    "step_counts[1:3] = np.NaN\n",
    "# Now fill it in with zeros\n",
    "step_counts = step_counts.fillna(0.)\n",
    "print(step_counts[1:3])"
   ]
  },
  {
   "cell_type": "code",
   "execution_count": 7,
   "metadata": {},
   "outputs": [
    {
     "name": "stdout",
     "output_type": "stream",
     "text": [
      "      0     1\n",
      "0  3620  10.7\n",
      "1  7891   0.0\n",
      "2  9761   NaN\n",
      "3  3907   2.4\n",
      "4  4338  15.3\n",
      "5  5373  10.9\n"
     ]
    }
   ],
   "source": [
    "cycling_data = [10.7, 0, None, 2.4, 15.3, 10.9, 0, None]\n",
    "# Create tuple of data \n",
    "joined_data = list(zip(step_data, cycling_data))\n",
    "# The dataframe\n",
    "activity_df = pd.DataFrame(joined_data)\n",
    "print(activity_df)"
   ]
  },
  {
   "cell_type": "code",
   "execution_count": 8,
   "metadata": {},
   "outputs": [
    {
     "name": "stdout",
     "output_type": "stream",
     "text": [
      "            Walking  Cycling\n",
      "2015-03-29     3620     10.7\n",
      "2015-03-30     7891      0.0\n",
      "2015-03-31     9761      NaN\n",
      "2015-04-01     3907      2.4\n",
      "2015-04-02     4338     15.3\n",
      "2015-04-03     5373     10.9\n"
     ]
    }
   ],
   "source": [
    "activity_df = pd.DataFrame(joined_data, index=pd.date_range(\"20150329\", periods = 6), columns= [\"Walking\", \"Cycling\"])\n",
    "print(activity_df)"
   ]
  },
  {
   "cell_type": "code",
   "execution_count": 9,
   "metadata": {},
   "outputs": [
    {
     "name": "stdout",
     "output_type": "stream",
     "text": [
      "Walking    3907.0\n",
      "Cycling       2.4\n",
      "Name: 2015-04-01 00:00:00, dtype: float64\n"
     ]
    }
   ],
   "source": [
    "# Select row of data by index name\n",
    "print(activity_df.loc[\"2015-04-01\"])"
   ]
  },
  {
   "cell_type": "code",
   "execution_count": 10,
   "metadata": {},
   "outputs": [
    {
     "name": "stdout",
     "output_type": "stream",
     "text": [
      "Walking    3907.0\n",
      "Cycling       2.4\n",
      "Name: 2015-04-01 00:00:00, dtype: float64\n"
     ]
    }
   ],
   "source": [
    "# Select row of data by integer position\n",
    "print(activity_df.iloc[-3])"
   ]
  },
  {
   "cell_type": "code",
   "execution_count": 11,
   "metadata": {},
   "outputs": [
    {
     "name": "stdout",
     "output_type": "stream",
     "text": [
      "2015-03-29    3620\n",
      "2015-03-30    7891\n",
      "2015-03-31    9761\n",
      "2015-04-01    3907\n",
      "2015-04-02    4338\n",
      "2015-04-03    5373\n",
      "Freq: D, Name: Walking, dtype: int64\n"
     ]
    }
   ],
   "source": [
    "# Name of column\n",
    "print(activity_df[\"Walking\"])"
   ]
  },
  {
   "cell_type": "code",
   "execution_count": 12,
   "metadata": {},
   "outputs": [
    {
     "name": "stdout",
     "output_type": "stream",
     "text": [
      "2015-03-29    3620\n",
      "2015-03-30    7891\n",
      "2015-03-31    9761\n",
      "2015-04-01    3907\n",
      "2015-04-02    4338\n",
      "2015-04-03    5373\n",
      "Freq: D, Name: Walking, dtype: int64\n"
     ]
    }
   ],
   "source": [
    "# Object-oriented approach\n",
    "print(activity_df.Walking)"
   ]
  },
  {
   "cell_type": "code",
   "execution_count": 13,
   "metadata": {},
   "outputs": [
    {
     "name": "stdout",
     "output_type": "stream",
     "text": [
      "2015-03-29    3620\n",
      "2015-03-30    7891\n",
      "2015-03-31    9761\n",
      "2015-04-01    3907\n",
      "2015-04-02    4338\n",
      "2015-04-03    5373\n",
      "Freq: D, Name: Walking, dtype: int64\n"
     ]
    }
   ],
   "source": [
    "# First Colum \n",
    "print(activity_df.iloc[:,0])"
   ]
  },
  {
   "cell_type": "code",
   "execution_count": 17,
   "metadata": {},
   "outputs": [
    {
     "data": {
      "text/plain": [
       "'/media/khaled/18d9fec9-8f46-4fc5-b0bf-80be8468f07b/intel/iris_data.csv'"
      ]
     },
     "execution_count": 17,
     "metadata": {},
     "output_type": "execute_result"
    }
   ],
   "source": [
    "filepath = \"/media/khaled/18d9fec9-8f46-4fc5-b0bf-80be8468f07b/intel/iris_data.csv\"\n",
    "filepath"
   ]
  },
  {
   "cell_type": "code",
   "execution_count": null,
   "metadata": {},
   "outputs": [],
   "source": []
  }
 ],
 "metadata": {
  "kernelspec": {
   "display_name": "Python 3",
   "language": "python",
   "name": "python3"
  },
  "language_info": {
   "codemirror_mode": {
    "name": "ipython",
    "version": 2
   },
   "file_extension": ".py",
   "mimetype": "text/x-python",
   "name": "python",
   "nbconvert_exporter": "python",
   "pygments_lexer": "ipython2",
   "version": "2.7.17"
  }
 },
 "nbformat": 4,
 "nbformat_minor": 2
}
